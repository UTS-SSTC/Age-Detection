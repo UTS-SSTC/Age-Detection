{
 "cells": [
  {
   "cell_type": "markdown",
   "metadata": {},
   "source": [
    "# Age-Detection"
   ]
  },
  {
   "cell_type": "markdown",
   "metadata": {},
   "source": [
    "## Environment\n",
    "\n",
    "### System\n",
    "\n",
    "- Os: Windows 11 64bit\n",
    "- Python: 3.11.9\n",
    "\n",
    "### Package\n",
    "\n",
    "- pytorch: cu126 \n",
    "- pillow: 11.1.0\n",
    "- lightgbm: 4.6.0\n",
    "- pandas: 2.2.3\n",
    "- matplotlib: 3.10.1\n",
    "- ipykernel: 6.29.5\n",
    "- torchinfo: 1.8.0"
   ]
  },
  {
   "cell_type": "markdown",
   "metadata": {},
   "source": [
    "## Impelementation"
   ]
  },
  {
   "cell_type": "markdown",
   "metadata": {},
   "source": "### Import libraries"
  },
  {
   "cell_type": "code",
   "metadata": {},
   "source": [
    "import scripts.augment as sa\n",
    "import scripts.models as sm\n",
    "import scripts.preprocessing as sp\n",
    "import scripts.backbone as b\n",
    "import scripts.regressor as reg\n",
    "import scripts.evaluate as ev"
   ],
   "outputs": [],
   "execution_count": null
  },
  {
   "cell_type": "markdown",
   "metadata": {},
   "source": [
    "### Define constant"
   ]
  },
  {
   "cell_type": "code",
   "metadata": {},
   "source": [
    "# Define paths\n",
    "wiki_mat_path = \"./data/wiki/wiki.mat\"\n",
    "verified_image_path = \"./data/verified_image/\"\n",
    "processed_images_catch_path = \"./data/processed/\"\n",
    "processed_metadata_catch_path = \"./data/processed/processed_data.csv\"\n",
    "augmented_images_catch_path = \"./data/augmented/\"\n",
    "augmented_metadata_catch_path = \"./data/augmented/augmented_data.csv\"\n",
    "\n",
    "# Define variables\n",
    "min_age = 0\n",
    "max_age = 100\n",
    "max_samples = 500"
   ],
   "outputs": [],
   "execution_count": null
  },
  {
   "cell_type": "markdown",
   "metadata": {},
   "source": [
    "### Data preprocessing"
   ]
  },
  {
   "cell_type": "code",
   "metadata": {},
   "source": [
    "# Process Wiki metadata\n",
    "wiki_metadata = sp.process_wiki_metadata(\n",
    "    wiki_mat_path, \n",
    "    min_age=min_age, \n",
    "    max_age=max_age, \n",
    "    verified_image_path=verified_image_path,\n",
    "    use_cached=True,\n",
    "    cache_path=processed_metadata_catch_path\n",
    ")"
   ],
   "outputs": [],
   "execution_count": null
  },
  {
   "cell_type": "markdown",
   "metadata": {},
   "source": [
    "### Data augmentation"
   ]
  },
  {
   "cell_type": "code",
   "metadata": {},
   "source": [
    "wiki_metadata = sa.augment_facial_dataset(\n",
    "    input_csv_path=processed_metadata_catch_path,\n",
    "    input_base_path=processed_images_catch_path,\n",
    "    output_base_path=augmented_images_catch_path,\n",
    "    output_csv_path=augmented_metadata_catch_path,\n",
    "    max_samples_per_age=max_samples,\n",
    "    use_cached=True,\n",
    "    cache_path=augmented_metadata_catch_path\n",
    ")"
   ],
   "outputs": [],
   "execution_count": null
  },
  {
   "cell_type": "markdown",
   "metadata": {},
   "source": [
    "### Load models"
   ]
  },
  {
   "cell_type": "code",
   "metadata": {},
   "source": [
    "# Load all models\n",
    "device = sm.get_device()\n",
    "models = sm.load_all_models(pretrained=True, train_mode=True, device=device)\n",
    "\n",
    "# Print model summaries\n",
    "sm.print_model_summaries(models)"
   ],
   "outputs": [],
   "execution_count": null
  },
  {
   "metadata": {},
   "cell_type": "markdown",
   "source": "### Fine tuning models"
  },
  {
   "metadata": {},
   "cell_type": "code",
   "source": [
    "data_loader = ev.load_age_data(augmented_metadata_catch_path)\n",
    "\n",
    "fine_tuned_efficient_net_b0 = b.FineTunedBackbone(models['efficientnet_b0'])\n",
    "fine_tuned_efficient_net_b0.finetune(data_loader['train_loader'], data_loader['val_loader'], epochs=5)"
   ],
   "outputs": [],
   "execution_count": null
  },
  {
   "metadata": {},
   "cell_type": "markdown",
   "source": "### LightGBM model"
  },
  {
   "metadata": {},
   "cell_type": "code",
   "source": [
    "model = reg.EfficientLightGBM(fine_tuned_model=fine_tuned_efficient_net_b0)\n",
    "model.train_gbm(data_loader['train_loader'])"
   ],
   "outputs": [],
   "execution_count": null
  },
  {
   "metadata": {},
   "cell_type": "markdown",
   "source": "### Save the model"
  },
  {
   "metadata": {},
   "cell_type": "code",
   "source": [
    "model.save_model('./models/efficient-light-gbm.pkl')\n",
    "\n",
    "new_model = reg.EfficientLightGBM()\n",
    "new_model.load_model(\"./models/efficient-light-gbm.pkl\")"
   ],
   "outputs": [],
   "execution_count": null
  },
  {
   "metadata": {},
   "cell_type": "code",
   "source": [
    "#model = reg.EfficientLightGBM()\n",
    "#model.load_model('./models/efficient-light-gbm.pkl')\n",
    "\n",
    "# 加载数据\n",
    "data_loader = ev.load_age_data(\n",
    "    metadata_path='./data/augmented/augmented_data.csv',\n",
    "    use_cached=True\n",
    ")\n",
    "\n",
    "# 模型评估（会自动出图）\n",
    "results = ev.evaluate_efficient_lgbm(model, data_loader['test_loader'])\n",
    "\n",
    "# 打印结果\n",
    "for k, v in results.items():\n",
    "    print(f\"{k}: {v:.4f}\")"
   ],
   "outputs": [],
   "execution_count": null
  }
 ],
 "metadata": {
  "kernelspec": {
   "display_name": "Age-Detection",
   "language": "python",
   "name": "python3"
  },
  "language_info": {
   "codemirror_mode": {
    "name": "ipython",
    "version": 3
   },
   "file_extension": ".py",
   "mimetype": "text/x-python",
   "name": "python",
   "nbconvert_exporter": "python",
   "pygments_lexer": "ipython3",
   "version": "3.11.9"
  }
 },
 "nbformat": 4,
 "nbformat_minor": 2
}
